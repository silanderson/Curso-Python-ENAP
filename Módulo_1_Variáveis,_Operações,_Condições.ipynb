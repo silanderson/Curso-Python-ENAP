{
  "nbformat": 4,
  "nbformat_minor": 0,
  "metadata": {
    "colab": {
      "provenance": [],
      "authorship_tag": "ABX9TyOE4NbUHZht3FHfAsYW0uw4",
      "include_colab_link": true
    },
    "kernelspec": {
      "name": "python3",
      "display_name": "Python 3"
    },
    "language_info": {
      "name": "python"
    }
  },
  "cells": [
    {
      "cell_type": "markdown",
      "metadata": {
        "id": "view-in-github",
        "colab_type": "text"
      },
      "source": [
        "<a href=\"https://colab.research.google.com/github/silanderson/Curso-Python-ENAP/blob/main/M%C3%B3dulo_1_Vari%C3%A1veis%2C_Opera%C3%A7%C3%B5es%2C_Condi%C3%A7%C3%B5es.ipynb\" target=\"_parent\"><img src=\"https://colab.research.google.com/assets/colab-badge.svg\" alt=\"Open In Colab\"/></a>"
      ]
    },
    {
      "cell_type": "markdown",
      "source": [
        "Objetivos de aprendizado:\n",
        "\n",
        "Definir e modificar variáveis de vários tipos de dados. Converter entre tipos de dados.\n",
        "Compreender as características e usos de cada operação e a saída (output) correspondente.\n",
        "Compreender e corrigir estas declarações para verificar as condições.\n",
        "1.1: Variáveis\n",
        "1.1.1: Atribuição de Variáveis¶\n",
        "As variáveis são as mesmas que as variáveis em matemática, exceto que variáveis matemáticas são muitas vezes letras, mas variáveis de programação podem ser palavras.\n",
        "\n",
        "Variáveis: um conjunto que contém algumas informações.\n",
        "\n",
        "Nota sobre a declaração de variáveis:\n",
        "\n",
        "Case-sensitive (ou seja, caracteres em caixa alta ou baixa são tratados como diferentes)\n",
        "DEVE começar com uma letra ou um sublinhado; NÃO PODE começar com números.\n",
        "NÃO PODE ser o mesmo nome que as palavras-chave Python (por exemplo, class, finally, etc.)\n",
        "NÃO especificar o tipo de informação armazenada na variável. (Consulte os seguintes códigos para um exemplo.)"
      ],
      "metadata": {
        "id": "F5sDMnC7M681"
      }
    },
    {
      "cell_type": "code",
      "source": [
        "# Exemplos de declarações de variáveis\n",
        "width = 10\n",
        "\n",
        "# Note que o \"H\" está em letra maiúscula\n",
        "Height = 5\n",
        "\n",
        "area = 0\n",
        "width\n"
      ],
      "metadata": {
        "colab": {
          "base_uri": "https://localhost:8080/"
        },
        "id": "LngghNf5NL0o",
        "outputId": "2a41938e-d630-43c3-8a20-745b6450f9f3"
      },
      "execution_count": 3,
      "outputs": [
        {
          "output_type": "execute_result",
          "data": {
            "text/plain": [
              "10"
            ]
          },
          "metadata": {},
          "execution_count": 3
        }
      ]
    },
    {
      "cell_type": "code",
      "source": [
        "Height"
      ],
      "metadata": {
        "colab": {
          "base_uri": "https://localhost:8080/"
        },
        "id": "JPwcpuzpOYId",
        "outputId": "bedc976f-ffb9-4920-bbc2-85e0de10235a"
      },
      "execution_count": 6,
      "outputs": [
        {
          "output_type": "execute_result",
          "data": {
            "text/plain": [
              "5"
            ]
          },
          "metadata": {},
          "execution_count": 6
        }
      ]
    },
    {
      "cell_type": "code",
      "source": [
        "height"
      ],
      "metadata": {
        "colab": {
          "base_uri": "https://localhost:8080/",
          "height": 165
        },
        "id": "8UaUZPMWOZ61",
        "outputId": "04df4837-1fa4-4b71-fbfc-4eedce8c8e71"
      },
      "execution_count": 7,
      "outputs": [
        {
          "output_type": "error",
          "ename": "NameError",
          "evalue": "ignored",
          "traceback": [
            "\u001b[0;31m---------------------------------------------------------------------------\u001b[0m",
            "\u001b[0;31mNameError\u001b[0m                                 Traceback (most recent call last)",
            "\u001b[0;32m<ipython-input-7-5107fc8585e9>\u001b[0m in \u001b[0;36m<module>\u001b[0;34m\u001b[0m\n\u001b[0;32m----> 1\u001b[0;31m \u001b[0mheight\u001b[0m\u001b[0;34m\u001b[0m\u001b[0;34m\u001b[0m\u001b[0m\n\u001b[0m",
            "\u001b[0;31mNameError\u001b[0m: name 'height' is not defined"
          ]
        }
      ]
    },
    {
      "cell_type": "code",
      "source": [
        "# Usando uma palavra-chave python como um nome variável\n",
        "# ERROR CODE: sintaxe inválida\n",
        " \n",
        "global = 1\n",
        "\n",
        "global\n"
      ],
      "metadata": {
        "id": "qJJxaJ0IOcUE"
      },
      "execution_count": null,
      "outputs": []
    },
    {
      "cell_type": "code",
      "source": [
        "# Mais declarações para diferentes tipos de variáveis  \n",
        "\n",
        "# armazenando uma string\n",
        "helloMessage = \"Hello World!\"\n",
        "first_name = \"John\"\n",
        "\n",
        "# armazenando um caractere\n",
        "character_example = 'a'\n",
        "\n",
        "# armazenando um float \n",
        "_newFloat = 1.0\n",
        "\n",
        "# armazenando um valor booleano\n",
        "bool_Condition = True"
      ],
      "metadata": {
        "id": "l7gtbiFSP14e"
      },
      "execution_count": 13,
      "outputs": []
    },
    {
      "cell_type": "code",
      "source": [
        "helloMessage"
      ],
      "metadata": {
        "colab": {
          "base_uri": "https://localhost:8080/",
          "height": 35
        },
        "id": "Tuie8iB1P8TJ",
        "outputId": "a1ea9c36-3272-4fb8-af1c-750f112c0959"
      },
      "execution_count": 15,
      "outputs": [
        {
          "output_type": "execute_result",
          "data": {
            "text/plain": [
              "'Hello World!'"
            ],
            "application/vnd.google.colaboratory.intrinsic+json": {
              "type": "string"
            }
          },
          "metadata": {},
          "execution_count": 15
        }
      ]
    },
    {
      "cell_type": "code",
      "source": [
        "character_example"
      ],
      "metadata": {
        "colab": {
          "base_uri": "https://localhost:8080/",
          "height": 35
        },
        "id": "WFL_MikJP_i-",
        "outputId": "54716967-afd2-413d-dba5-1ebdf7ace20f"
      },
      "execution_count": 16,
      "outputs": [
        {
          "output_type": "execute_result",
          "data": {
            "text/plain": [
              "'a'"
            ],
            "application/vnd.google.colaboratory.intrinsic+json": {
              "type": "string"
            }
          },
          "metadata": {},
          "execution_count": 16
        }
      ]
    },
    {
      "cell_type": "code",
      "source": [
        "_newFloat"
      ],
      "metadata": {
        "colab": {
          "base_uri": "https://localhost:8080/"
        },
        "id": "C3xsbOKGQFEf",
        "outputId": "7ad53004-6e9e-4fe1-f496-ce02c20bbce2"
      },
      "execution_count": 17,
      "outputs": [
        {
          "output_type": "execute_result",
          "data": {
            "text/plain": [
              "1.0"
            ]
          },
          "metadata": {},
          "execution_count": 17
        }
      ]
    },
    {
      "cell_type": "code",
      "source": [
        "bool_Condition"
      ],
      "metadata": {
        "colab": {
          "base_uri": "https://localhost:8080/"
        },
        "id": "BdYwOHrjQJ3u",
        "outputId": "0a3b25f4-cb80-4600-ea7d-a94f43d5ebdf"
      },
      "execution_count": 18,
      "outputs": [
        {
          "output_type": "execute_result",
          "data": {
            "text/plain": [
              "True"
            ]
          },
          "metadata": {},
          "execution_count": 18
        }
      ]
    },
    {
      "cell_type": "markdown",
      "source": [
        "1.1.2: Conversor de Tipo\n",
        "A partir do tópico 1.1.1, aprendemos como declarar corretamente um nome variável para diferentes tipos de dados. Neste tópico, vamos explorar como \"computar\" ou converter o tipo dos dados entre si.\n",
        "\n",
        "Uma função útil: type() define o tipo dos dados\n",
        "\n"
      ],
      "metadata": {
        "id": "l-SAfI__QVU4"
      }
    },
    {
      "cell_type": "code",
      "source": [
        "# A partir da declaração acima, width = 10 e 10 é int, então esperamos que a função retorne int\n",
        "type(width)"
      ],
      "metadata": {
        "colab": {
          "base_uri": "https://localhost:8080/"
        },
        "id": "yiFyv1_PQZoF",
        "outputId": "a84dd71f-8252-44d1-e894-3e3b2fe1d93d"
      },
      "execution_count": 19,
      "outputs": [
        {
          "output_type": "execute_result",
          "data": {
            "text/plain": [
              "int"
            ]
          },
          "metadata": {},
          "execution_count": 19
        }
      ]
    },
    {
      "cell_type": "code",
      "source": [
        "type(helloMessage)"
      ],
      "metadata": {
        "colab": {
          "base_uri": "https://localhost:8080/"
        },
        "id": "u2mq97KsQsnX",
        "outputId": "ee6603b0-7f3f-4d66-96e9-7c5eeafd3acc"
      },
      "execution_count": 20,
      "outputs": [
        {
          "output_type": "execute_result",
          "data": {
            "text/plain": [
              "str"
            ]
          },
          "metadata": {},
          "execution_count": 20
        }
      ]
    },
    {
      "cell_type": "code",
      "source": [
        "type(bool_Condition)"
      ],
      "metadata": {
        "colab": {
          "base_uri": "https://localhost:8080/"
        },
        "id": "CUvaYGeOQuyu",
        "outputId": "b4647332-e1e4-4b32-fb99-06b70e293168"
      },
      "execution_count": 21,
      "outputs": [
        {
          "output_type": "execute_result",
          "data": {
            "text/plain": [
              "bool"
            ]
          },
          "metadata": {},
          "execution_count": 21
        }
      ]
    },
    {
      "cell_type": "code",
      "source": [
        "# Vamos computar um float em um int e vice-versa\n",
        "# Computaremos o tipo e depois o armazenaremos em uma nova variável\n",
        "width_float = float(width)\n",
        "\n",
        "type(width_float)"
      ],
      "metadata": {
        "colab": {
          "base_uri": "https://localhost:8080/"
        },
        "id": "Bc70Z8LtQ4Nu",
        "outputId": "5dc07876-7880-40f2-ce86-aa9281624717"
      },
      "execution_count": 22,
      "outputs": [
        {
          "output_type": "execute_result",
          "data": {
            "text/plain": [
              "float"
            ]
          },
          "metadata": {},
          "execution_count": 22
        }
      ]
    },
    {
      "cell_type": "code",
      "source": [
        "# Computar de float para int\n",
        "width_int = int(width_float)\n",
        "\n",
        "type(width_int)"
      ],
      "metadata": {
        "colab": {
          "base_uri": "https://localhost:8080/"
        },
        "id": "oHiiLG2yRPkA",
        "outputId": "2919a3bf-bd95-4400-9694-f5b5d2b50225"
      },
      "execution_count": 23,
      "outputs": [
        {
          "output_type": "execute_result",
          "data": {
            "text/plain": [
              "int"
            ]
          },
          "metadata": {},
          "execution_count": 23
        }
      ]
    },
    {
      "cell_type": "code",
      "source": [
        "# Computar entre string e int\n",
        "# Lembrar que width armazena um int\n",
        "\n",
        "# Converter width para string\n",
        "width_string = str(width)\n",
        "type(width_string)"
      ],
      "metadata": {
        "colab": {
          "base_uri": "https://localhost:8080/"
        },
        "id": "CetINl_ORXqZ",
        "outputId": "f8f80ca6-0fec-4de7-ea02-5c5d835306f0"
      },
      "execution_count": 24,
      "outputs": [
        {
          "output_type": "execute_result",
          "data": {
            "text/plain": [
              "str"
            ]
          },
          "metadata": {},
          "execution_count": 24
        }
      ]
    },
    {
      "cell_type": "code",
      "source": [
        "# Converter width_string de volta a um int\n",
        "type(int(width_string))"
      ],
      "metadata": {
        "id": "4iYHwAMbRdwe"
      },
      "execution_count": null,
      "outputs": []
    },
    {
      "cell_type": "markdown",
      "source": [
        "1.2: Operações\n",
        "1.1.1 Operadores Aritméticos"
      ],
      "metadata": {
        "id": "zkSQF4kXSjBC"
      }
    },
    {
      "cell_type": "code",
      "source": [
        "# Operações matemáticas básicas com Números\n",
        "\n",
        "# Adição\n",
        "print(5+23)\n",
        "\n",
        "# Subtração\n",
        "print(100-25)\n",
        "\n",
        "# Multiplicação\n",
        "print(5*10)\n",
        "\n",
        "# Potência/Exponente\n",
        "# o operador ** é equivalente ao expoente\n",
        "print(5**2)\n",
        "\n",
        "# 5*5 = 5^2 = 5**2 \n",
        "print(5*5)\n",
        "\n",
        "\n",
        "# Divisão (float)\n",
        "# Retornar o valor decimal real da divisão\n",
        "print(36/4)\n",
        "print(10/3)         \n",
        "\n",
        "# Divisão (int)\n",
        "# Retornar um int. Se o quociente real for um valor decimal, apenas um número inteiro irá retornar\n",
        "print(10//3)\n",
        "print(19//6)\n",
        "\n",
        "# Divisão Modular: retornar o restante da divisão\n",
        "print(10%3)"
      ],
      "metadata": {
        "colab": {
          "base_uri": "https://localhost:8080/"
        },
        "id": "GGasE3mHSj3u",
        "outputId": "9d3876f4-bb1d-477d-9d25-dd55676cd900"
      },
      "execution_count": 25,
      "outputs": [
        {
          "output_type": "stream",
          "name": "stdout",
          "text": [
            "28\n",
            "75\n",
            "50\n",
            "25\n",
            "25\n",
            "9.0\n",
            "3.3333333333333335\n",
            "3\n",
            "3\n",
            "1\n"
          ]
        }
      ]
    },
    {
      "cell_type": "code",
      "source": [
        "# Operações com Strings e Caracteres\n",
        "print(\"foo\" * 5)\n",
        "print('x'*3)"
      ],
      "metadata": {
        "colab": {
          "base_uri": "https://localhost:8080/"
        },
        "id": "xORl2TTpSpVm",
        "outputId": "c6324634-1c65-4d6b-ae2e-7e197ac5b2af"
      },
      "execution_count": 26,
      "outputs": [
        {
          "output_type": "stream",
          "name": "stdout",
          "text": [
            "foofoofoofoofoo\n",
            "xxx\n"
          ]
        }
      ]
    },
    {
      "cell_type": "code",
      "source": [
        "# ERRO: o compilador trata x como uma variável, não como um caractere\n",
        "print(x*3)"
      ],
      "metadata": {
        "colab": {
          "base_uri": "https://localhost:8080/",
          "height": 183
        },
        "id": "x8FN8nV4SuNS",
        "outputId": "6d13a4af-e008-4aa8-a4b7-a441179368d0"
      },
      "execution_count": 27,
      "outputs": [
        {
          "output_type": "error",
          "ename": "NameError",
          "evalue": "ignored",
          "traceback": [
            "\u001b[0;31m---------------------------------------------------------------------------\u001b[0m",
            "\u001b[0;31mNameError\u001b[0m                                 Traceback (most recent call last)",
            "\u001b[0;32m<ipython-input-27-1ddc645d6d26>\u001b[0m in \u001b[0;36m<module>\u001b[0;34m\u001b[0m\n\u001b[1;32m      1\u001b[0m \u001b[0;31m# ERRO: o compilador trata x como uma variável, não como um caractere\u001b[0m\u001b[0;34m\u001b[0m\u001b[0;34m\u001b[0m\u001b[0;34m\u001b[0m\u001b[0m\n\u001b[0;32m----> 2\u001b[0;31m \u001b[0mprint\u001b[0m\u001b[0;34m(\u001b[0m\u001b[0mx\u001b[0m\u001b[0;34m*\u001b[0m\u001b[0;36m3\u001b[0m\u001b[0;34m)\u001b[0m\u001b[0;34m\u001b[0m\u001b[0;34m\u001b[0m\u001b[0m\n\u001b[0m",
            "\u001b[0;31mNameError\u001b[0m: name 'x' is not defined"
          ]
        }
      ]
    },
    {
      "cell_type": "code",
      "source": [
        "# ERRO: não pode concatenar um int com uma string --> necessidade de computar int com uma string\n",
        "print(\"hello\" + 5)"
      ],
      "metadata": {
        "colab": {
          "base_uri": "https://localhost:8080/",
          "height": 183
        },
        "id": "3dErFg6vSv6A",
        "outputId": "390314a3-f63c-4d89-920a-d5958c669ee6"
      },
      "execution_count": 28,
      "outputs": [
        {
          "output_type": "error",
          "ename": "TypeError",
          "evalue": "ignored",
          "traceback": [
            "\u001b[0;31m---------------------------------------------------------------------------\u001b[0m",
            "\u001b[0;31mTypeError\u001b[0m                                 Traceback (most recent call last)",
            "\u001b[0;32m<ipython-input-28-0b933388a5bc>\u001b[0m in \u001b[0;36m<module>\u001b[0;34m\u001b[0m\n\u001b[1;32m      1\u001b[0m \u001b[0;31m# ERRO: não pode concatenar um int com uma string --> necessidade de computar int com uma string\u001b[0m\u001b[0;34m\u001b[0m\u001b[0;34m\u001b[0m\u001b[0;34m\u001b[0m\u001b[0m\n\u001b[0;32m----> 2\u001b[0;31m \u001b[0mprint\u001b[0m\u001b[0;34m(\u001b[0m\u001b[0;34m\"hello\"\u001b[0m \u001b[0;34m+\u001b[0m \u001b[0;36m5\u001b[0m\u001b[0;34m)\u001b[0m\u001b[0;34m\u001b[0m\u001b[0;34m\u001b[0m\u001b[0m\n\u001b[0m",
            "\u001b[0;31mTypeError\u001b[0m: can only concatenate str (not \"int\") to str"
          ]
        }
      ]
    },
    {
      "cell_type": "code",
      "source": [
        "# Fix\n",
        "print(\"hello \" + str(5))"
      ],
      "metadata": {
        "colab": {
          "base_uri": "https://localhost:8080/"
        },
        "id": "gxsk4LNKSzOH",
        "outputId": "6b6ed2df-d690-43dd-fc82-fc597ab97c08"
      },
      "execution_count": 29,
      "outputs": [
        {
          "output_type": "stream",
          "name": "stdout",
          "text": [
            "hello 5\n"
          ]
        }
      ]
    },
    {
      "cell_type": "code",
      "source": [
        "# Adição de String = concatenação\n",
        "print(\"hello \" + \"world\")"
      ],
      "metadata": {
        "colab": {
          "base_uri": "https://localhost:8080/"
        },
        "id": "9gKFtQpXS1y_",
        "outputId": "6435f469-88eb-4500-8291-e9d2960b4452"
      },
      "execution_count": 30,
      "outputs": [
        {
          "output_type": "stream",
          "name": "stdout",
          "text": [
            "hello world\n"
          ]
        }
      ]
    },
    {
      "cell_type": "markdown",
      "source": [
        "1.1.2: Outros Operadores"
      ],
      "metadata": {
        "id": "oJ0AVzXtTI1E"
      }
    },
    {
      "cell_type": "code",
      "source": [
        "# Comparadores: retornar valor booleano\n",
        "\n",
        "# Igualdade ==\n",
        "# Nota: DEVE ser sinais de igual Duplos, um sinal de igual único é atribuição\n",
        "print(5 == 5.0)\n",
        "\n",
        "# Maior do que >\n",
        "print(7 > 1)\n",
        "\n",
        "# Menor do que <\n",
        "print(1.5 < 90)\n",
        "\n",
        "# Maior ou igual a >=\n",
        "print(5.0 >= 5)\n",
        "print(5.0 >= 4)\n",
        "print(5 >= 13)\n",
        "\n",
        "# Menor ou igual a <=\n",
        "print(10 <= 10.0)\n",
        "print(10 <= 20)\n",
        "print(8 <= 3)"
      ],
      "metadata": {
        "colab": {
          "base_uri": "https://localhost:8080/"
        },
        "id": "9VkGC1O4TN5w",
        "outputId": "d8d3ef80-eddb-4ee1-9db3-c0bf533c7862"
      },
      "execution_count": 31,
      "outputs": [
        {
          "output_type": "stream",
          "name": "stdout",
          "text": [
            "True\n",
            "True\n",
            "True\n",
            "True\n",
            "True\n",
            "False\n",
            "True\n",
            "True\n",
            "False\n"
          ]
        }
      ]
    },
    {
      "cell_type": "code",
      "source": [
        "# Comparadores em Strings\n",
        "\n",
        "print(\"hello\" < \"world\")\n",
        "print(\"hello\" == \"world\")\n",
        "print(\"hello\" > \"world\")\n",
        "\n",
        "print(\"hello\" == \"hello\")\n",
        "\n",
        "print(\"cat\" < \"dog\")"
      ],
      "metadata": {
        "colab": {
          "base_uri": "https://localhost:8080/"
        },
        "id": "egsfWbu7TWK7",
        "outputId": "c0f364fa-ff88-47ae-e682-0aedf5da97f5"
      },
      "execution_count": 32,
      "outputs": [
        {
          "output_type": "stream",
          "name": "stdout",
          "text": [
            "True\n",
            "False\n",
            "False\n",
            "True\n",
            "True\n"
          ]
        }
      ]
    },
    {
      "cell_type": "markdown",
      "source": [
        "1.3: Declarações Condicionais\n",
        "1.3.1: Estrutura Condicional If\n",
        "Avisos importantes:\n",
        "\n",
        "A ordem das condições importa!\n",
        "Se mais de uma condição estiver satisfeita, então as ações associadas à primeira condição satisfeita serão executadas e saltarão as demais condições e códigos.\n",
        "\"elif\" = \"else if\"\n",
        "\"elif\" expressa o mesmo significado que \"else if\"\n",
        "Pelo menos uma condição DEVE ser prevista para ambas as cláusulas if e elif, senão ERROR!\n",
        "Os parênteses para if e elif são opcionais. Seu código funcionará com ou sem o ()."
      ],
      "metadata": {
        "id": "q_2RUtbgTcK3"
      }
    },
    {
      "cell_type": "code",
      "source": [
        "x = 7\n",
        "y = 14\n",
        "\n",
        "\n",
        "if (2*x == y):\n",
        "  print(\"y is double of x\")\n",
        "elif (x**2 == y):\n",
        "  print(\"y is the squared of x\")\n",
        "else:\n",
        "  print(\"y is NOT double of x\")"
      ],
      "metadata": {
        "colab": {
          "base_uri": "https://localhost:8080/"
        },
        "id": "t_Zx4TNnTd5Y",
        "outputId": "2ae93ba8-3ace-413c-8244-2aa618c2a54c"
      },
      "execution_count": 33,
      "outputs": [
        {
          "output_type": "stream",
          "name": "stdout",
          "text": [
            "y is double of x\n"
          ]
        }
      ]
    },
    {
      "cell_type": "code",
      "source": [
        "x = 7\n",
        "y = 49\n",
        "\n",
        "\n",
        "if (2*x == y):\n",
        "  print(\"y is double of x\")\n",
        "elif (x**2 == y):\n",
        "  print(\"y is the squared of x\")\n",
        "else:\n",
        "  print(\"y is NOT related to x\")"
      ],
      "metadata": {
        "colab": {
          "base_uri": "https://localhost:8080/"
        },
        "id": "c4INAg93TjGT",
        "outputId": "6f2fdc30-741a-4c47-c338-5eae7bb3e7c5"
      },
      "execution_count": 34,
      "outputs": [
        {
          "output_type": "stream",
          "name": "stdout",
          "text": [
            "y is the squared of x\n"
          ]
        }
      ]
    },
    {
      "cell_type": "code",
      "source": [
        "x = 7\n",
        "y = 50\n",
        "\n",
        "\n",
        "if (2*x == y):\n",
        "  print(\"y is double of x\")\n",
        "elif (x**2 == y):\n",
        "  print(\"y is the squared of x\")\n",
        "else:\n",
        "  print(\"y is NOT double nor squared of x\")"
      ],
      "metadata": {
        "colab": {
          "base_uri": "https://localhost:8080/"
        },
        "id": "m48UoRbNTmPJ",
        "outputId": "a34dec7b-be41-48ef-d246-d804ac31bd27"
      },
      "execution_count": 35,
      "outputs": [
        {
          "output_type": "stream",
          "name": "stdout",
          "text": [
            "y is NOT double nor squared of x\n"
          ]
        }
      ]
    },
    {
      "cell_type": "markdown",
      "source": [
        "1.3.2: Switch Cases\n",
        "O Python NÃO tem uma implementação para os switch cases, mas uma maneira de implementá-lo é com o dicionário, uma estrutura de dados que armazena o par de valores chave (Módulo 3).\n",
        "\n",
        "As condições switch são armazenadas como chaves no dicionário, e as ações armazenadas como valor.\n",
        "Se houver uma série de ações para cada caso, então considere escrever uma função para cada caso e use as chamadas de função como o valor.\n",
        "A condição padrão é listada manualmente como um valor chave no get()."
      ],
      "metadata": {
        "id": "qxuv0ZUDTp3B"
      }
    },
    {
      "cell_type": "code",
      "source": [
        "def switcher(number):\n",
        "\n",
        "  # Use dicionário (do Módulo 3) para armazenar switch cases\n",
        "  # Se não for encontrado, o get() será o valor padrão\n",
        "  return {\n",
        "    '0':\"Entered 0\",\n",
        "    '1':\"Entered 1\",\n",
        "    '2':\"Entered 2\",\n",
        "    '3':\"Entered 3\",\n",
        "    '4':\"Entered 4\",\n",
        "    '5':\"Entered 5\",\n",
        "    '6':\"Entered 6\",\n",
        "    '7':\"Entered 7\",\n",
        "    '8':\"Entered 8\",\n",
        "    '9':\"Entered 9\",\n",
        "  }.get(number,\"Invalid number!\")\n",
        "\n",
        "\n",
        "# input() lê uma entrado do usuário de stdin\n",
        "number = input(\"Dial a number\")\n",
        "switcher(number)"
      ],
      "metadata": {
        "colab": {
          "base_uri": "https://localhost:8080/",
          "height": 53
        },
        "id": "TxrlT2IaTrLS",
        "outputId": "276edf75-b920-4acd-c204-de4b374d19b8"
      },
      "execution_count": 36,
      "outputs": [
        {
          "name": "stdout",
          "output_type": "stream",
          "text": [
            "Dial a number1\n"
          ]
        },
        {
          "output_type": "execute_result",
          "data": {
            "text/plain": [
              "'Entered 1'"
            ],
            "application/vnd.google.colaboratory.intrinsic+json": {
              "type": "string"
            }
          },
          "metadata": {},
          "execution_count": 36
        }
      ]
    },
    {
      "cell_type": "markdown",
      "source": [
        "\"\"\"\n",
        "EXERCÍCIO: implemente o exemplo de switch case acima usando as condições \"if/else\"\n",
        "\n",
        "Prompt: para cada dígito entre 0-9, o programa imprimirá uma confirmação \n",
        "para o valor inserido ou irá imprimir \"invalid inputs\" para todos os outros números.\n",
        "\"\"\""
      ],
      "metadata": {
        "id": "4QBJ1VzAUBAJ"
      }
    },
    {
      "cell_type": "code",
      "source": [
        "number = input(\"Dial a number\")\n",
        "\n",
        "if number == '0':\n",
        "    print(\"Entered 0\")\n",
        "elif number == '1':\n",
        "    print(\"Entered 1\")\n",
        "elif number == '2':\n",
        "    print(\"Entered 2\")\n",
        "elif number == '3':\n",
        "    print(\"Entered 3\")\n",
        "elif number == '4':\n",
        "    print(\"Entered 4\")\n",
        "elif number == '5':\n",
        "    print(\"Entered 5\")\n",
        "elif number == '6':\n",
        "    print(\"Entered 6\")\n",
        "elif number == '7':\n",
        "    print(\"Entered 7\")\n",
        "elif number == '8':\n",
        "    print(\"Entered 8\")\n",
        "elif number == '9':\n",
        "    print(\"Entered 9\")\n",
        "else:\n",
        "    print(\"Invalid number!\")"
      ],
      "metadata": {
        "colab": {
          "base_uri": "https://localhost:8080/"
        },
        "id": "pBFKLP8kUCPQ",
        "outputId": "5dcd09d0-56c7-4667-cbe9-1305b0891671"
      },
      "execution_count": 37,
      "outputs": [
        {
          "output_type": "stream",
          "name": "stdout",
          "text": [
            "Dial a number7\n",
            "Entered 7\n"
          ]
        }
      ]
    }
  ]
}